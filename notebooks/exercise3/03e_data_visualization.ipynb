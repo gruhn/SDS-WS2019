{
 "cells": [
  {
   "cell_type": "markdown",
   "metadata": {},
   "source": [
    "# Exercise 3: Data Visualization"
   ]
  },
  {
   "cell_type": "code",
   "execution_count": 1,
   "metadata": {},
   "outputs": [],
   "source": [
    "# general imports\n",
    "import numpy as np\n",
    "import pandas as pd\n",
    "from matplotlib import pyplot as plt"
   ]
  },
  {
   "cell_type": "markdown",
   "metadata": {},
   "source": [
    "### Task 1: An Application of Bayes Theorem\n",
    "We revisit the example of an application of Bayes' Theorem that was presented in lecture:  \n",
    "A medical test $T$ for a disease $D$ was an accuracy of 95%, i.e. it holds that\n",
    "$$ P(T = + | D = +) = P(T = - | D = -) = 0.95\\ .$$\n",
    "\n",
    "Now let $p$ denote the prevalence of the disease in the population, i.e. \n",
    "$$ P(D = +) = p. $$"
   ]
  },
  {
   "cell_type": "markdown",
   "metadata": {},
   "source": [
    "#### a) Applying Bayes Theorem\n",
    "Write a function that, based on the input prevalence p, returns the probability that a person which has had a positive test indeed has the disease."
   ]
  },
  {
   "cell_type": "code",
   "execution_count": null,
   "metadata": {},
   "outputs": [],
   "source": [
    "def "
   ]
  },
  {
   "cell_type": "markdown",
   "metadata": {},
   "source": [
    "#### b) Plotting the Probabilities\n",
    "Using your function from a), compute the probabilities that a person which has had a positive test indeed has the disease for all prevalences $p = 0.001 \\cdot i,\\, i=1,\\dots,1000$.  \n",
    "Use matplotlib to visualize your results in a scatterplot with the following specifications: \n",
    "* since we have many points, reduce the point size to 0.2\n",
    "* limit the axes to the interval $[0,1]$, and include a tick at every 0.1\n",
    "* add horizontal grid lines at every tick of the y-axis\n",
    "* include proper axis labels\n",
    "* color the points blue if its corresponding conditional probability is below 0.5, and red otherwise\n",
    "* add a black vertical line at the first point where the conditional probability is above 0.5"
   ]
  },
  {
   "cell_type": "code",
   "execution_count": null,
   "metadata": {},
   "outputs": [],
   "source": []
  },
  {
   "cell_type": "markdown",
   "metadata": {},
   "source": [
    "### Task 2: Analyzing Air Quality over Time\n",
    "\n",
    "In this task we analyze the air quality dataset that you can download from the UCI library: https://archive.ics.uci.edu/ml/datasets/Air+Quality\n",
    "\n",
    "It measures the air quality in an Italian city from March 2004 until May 2005, and contains hourly averaged responses from an array of 5 metal oxide chemical sensors.\n",
    "\n",
    "Note that this dataset is somewhat messy and not in standard format. Take a look into the data to check for column separator, decimals, and delete empty rows at the end of the file. Also check the documentation for specifics regarding missing values."
   ]
  },
  {
   "cell_type": "code",
   "execution_count": null,
   "metadata": {},
   "outputs": [],
   "source": [
    "# load the data here - beware of time data and missing values (also check documentation on the UCI webpage)\n",
    "\n",
    "# use this function to parse the date columns (indices 0 and 1) when reading the data from csv.\n",
    "dateparse = lambda x,y: pd.datetime.strptime(str(x)+str(y), '%d/%m/%Y%H.%M.%S')"
   ]
  },
  {
   "cell_type": "markdown",
   "metadata": {},
   "source": [
    "#### a) Plotting Daily Responses over Time\n",
    "\n",
    "We want to simultaneously plot the concentrations of CO, Benzene (C6H6), Total Nitrogen Oxides (NOx) and Nitrogen Dioxide (NO2)  for every day of June 2008 at 12:00.\n",
    "Create a line plot with 4 lines, each corresponding to one of the 4 oxides, where the x axis represents the time, i.e. the day in June, and the x-axis the concentration in micrograms/m³. Note that CO is measured in mg/m³ and is thus magnitudes higher than the other gas. Since the oxide concentrations are in very different orders of magnitude, you should apply a logarithmic scale for the y-axis."
   ]
  },
  {
   "cell_type": "code",
   "execution_count": null,
   "metadata": {},
   "outputs": [],
   "source": []
  },
  {
   "cell_type": "markdown",
   "metadata": {},
   "source": [
    "#### b) Analyzing Air Quality by Hour of the Day\n",
    "\n",
    "Instead of just considering the concentration at noon, we now want to investigate how the air quality changes over the course of the day, from 5:00-23:00. Thus, for each of these hours, average the hourly concentrations of NOx and NO2 over all days in June 2004, and visualize these hourly averages in a stacked bar plot."
   ]
  },
  {
   "cell_type": "code",
   "execution_count": null,
   "metadata": {},
   "outputs": [],
   "source": []
  },
  {
   "cell_type": "markdown",
   "metadata": {},
   "source": [
    "Do you think this plot is a good visualization? Explain your answer!"
   ]
  },
  {
   "cell_type": "markdown",
   "metadata": {},
   "source": [
    "### Task 3: Visualizing Student Performance with the Seaborn Package\n",
    "\n",
    "For this last task, we are going to use the seaborn package. This is a very powerful and popular plotting library, which is also based on matplotlib. An extensive documentation can be found here: https://seaborn.pydata.org/.\n",
    "\n",
    "The data that we are using in this task was taken from _Kaggle_ (https://www.kaggle.com/spscientist/students-performance-in-exams) and can also be downloaded from Moodle. It includes the exam scores of 1000 students in 3 different exams (math, reading, writing), plus some information on the student demographics and on their exam preparation."
   ]
  },
  {
   "cell_type": "code",
   "execution_count": null,
   "metadata": {},
   "outputs": [],
   "source": [
    "import seaborn as sns"
   ]
  },
  {
   "cell_type": "markdown",
   "metadata": {},
   "source": [
    "#### a) Correlating Test Performances\n",
    "\n",
    "We want to investigate whether the reading scores have a stronger correlation with the writing scores or with the math scores.\n",
    "For that purpose, use seaborn to create a scatter plot in which the x-axis is represented by the reading scores, and the y-axis is shared by both writing and math scores. To distintuish math and writing scores, color the first in blue, and the latter in orange. Include corresponding axis labels and a legend to illustrate your plot. Where do you observe a stronger correlation?\n",
    "\n",
    "_Hint:_ Apply a suitable _melt_ operation on your dataframe!"
   ]
  },
  {
   "cell_type": "code",
   "execution_count": null,
   "metadata": {},
   "outputs": [],
   "source": []
  },
  {
   "cell_type": "markdown",
   "metadata": {},
   "source": [
    "#### b) Investigating the Impact of the Exam Preparation Course\n",
    "\n",
    "We want to analyze whether taking the exam preparation course had a positive impact on the eventual test results. For that matter, we want to make use of grouped boxplots: \n",
    "Create a plot in which for each of the three exams, there is a pair (group) of boxes that represent the distibutions of the test results, one box for those students that took the exam preparation course, and one for those who did not. The x-axis is split into three groups (math, reading, writing), and the y-axis represents the test scores.\n",
    "\n",
    "_Hint:_ Again, _melting_ your dataframe yields the easiest way to create the plot!"
   ]
  },
  {
   "cell_type": "code",
   "execution_count": null,
   "metadata": {},
   "outputs": [],
   "source": []
  }
 ],
 "metadata": {
  "kernelspec": {
   "display_name": "Python 3",
   "language": "python",
   "name": "python3"
  },
  "language_info": {
   "codemirror_mode": {
    "name": "ipython",
    "version": 3
   },
   "file_extension": ".py",
   "mimetype": "text/x-python",
   "name": "python",
   "nbconvert_exporter": "python",
   "pygments_lexer": "ipython3",
   "version": "3.7.3"
  }
 },
 "nbformat": 4,
 "nbformat_minor": 2
}
